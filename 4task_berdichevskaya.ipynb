{
 "cells": [
  {
   "cell_type": "markdown",
   "metadata": {
    "id": "2Ff6ZP8NukS9"
   },
   "source": [
    "#### Задача 1\n",
    "\n",
    "1. Создайте два вещественных тензора: a размером (3, 4) и b размером (12,)\n",
    " \n",
    "2. Создайте тензор c, являющийся тензором b, но размера (2, 2, 3) \n",
    "\n",
    "3. Выведите первый столбец матрицы a с помощью индексации"
   ]
  },
  {
   "cell_type": "code",
   "execution_count": 2,
   "metadata": {
    "id": "NR8rVBXuuzk_"
   },
   "outputs": [
    {
     "data": {
      "text/plain": [
       "tensor([0., 0., 0.])"
      ]
     },
     "execution_count": 2,
     "metadata": {},
     "output_type": "execute_result"
    }
   ],
   "source": [
    "import torch\n",
    "import matplotlib.pyplot as plt\n",
    "\n",
    "a = torch.FloatTensor(3, 4)\n",
    "b = torch.FloatTensor(12,)\n",
    "c = b.view(2, 2, 3)\n",
    "a[:,0]"
   ]
  },
  {
   "cell_type": "markdown",
   "metadata": {
    "id": "JJ7ftmokvFr8"
   },
   "source": [
    "#### Задача 2\n",
    "\n",
    "1. Создайте два вещественных тензора: a размером (5, 2) и b размером (1,10) \n",
    "\n",
    "2. Создайте тензор c, являющийся тензором b, но размера (5, 2) \n",
    "\n",
    "3. Произведите все арифметические операции с тензорами a и c"
   ]
  },
  {
   "cell_type": "code",
   "execution_count": 3,
   "metadata": {
    "id": "IIokWGwXvNVH"
   },
   "outputs": [
    {
     "name": "stdout",
     "output_type": "stream",
     "text": [
      "tensor([[0., 0.],\n",
      "        [0., 0.],\n",
      "        [0., 0.],\n",
      "        [0., 0.],\n",
      "        [0., 0.]])\n",
      "tensor([[0., 0.],\n",
      "        [0., 0.],\n",
      "        [0., 0.],\n",
      "        [0., 0.],\n",
      "        [0., 0.]])\n",
      "tensor([[0., 0.],\n",
      "        [0., 0.],\n",
      "        [0., 0.],\n",
      "        [0., 0.],\n",
      "        [0., 0.]])\n",
      "tensor([[nan, nan],\n",
      "        [nan, nan],\n",
      "        [nan, nan],\n",
      "        [nan, nan],\n",
      "        [nan, nan]])\n"
     ]
    }
   ],
   "source": [
    "a = torch.FloatTensor(5, 2)\n",
    "b = torch.FloatTensor(1, 10)\n",
    "c = b.view(5, 2)\n",
    "print(a.add(c))\n",
    "print(a.sub(c))\n",
    "print(a.mul(c))\n",
    "print(a.div(c))"
   ]
  },
  {
   "cell_type": "markdown",
   "metadata": {
    "id": "rUb_E4FevfIh"
   },
   "source": [
    "#### Задача 3\n",
    "\n",
    "1. Создайте тензор целых чисел images размерности (100, 200, 200, 3) (можно интерпретировать это как 100 картинок размера 200х200 с тремя цветовыми каналами, то есть 100 цветных изображений 200х200). Заполните его нулями\n",
    "\n",
    "2. Сделайте так, чтобы у i-ой по порядку картинки была нарисована белая полоса толщиной два пикселя в строках, которые соответствуют номеру картинки. Например, у 3-ей по порядку картинки белая полоска будет занимать 6 и 7 строки, у 99 -- 198 и 199. Сделать белую строку можно, записав в ячейки тензора число 255 (по всем трём каналам). Выведите пару примеров с помощоью pylot\n",
    "\n",
    "3. Посчитайте среднее тензора images по 1-ой оси (по сути - средняя картинка), умножьте полученный тензор на 70. Нарисуйте с помощью pyplot, должна получиться серая картинка (при взятии среднего нужно привести тензор к float с помощью .float(), при отрисовке обратно к int с помощью .int())"
   ]
  },
  {
   "cell_type": "code",
   "execution_count": 4,
   "metadata": {
    "colab": {
     "base_uri": "https://localhost:8080/",
     "height": 286
    },
    "executionInfo": {
     "elapsed": 715,
     "status": "ok",
     "timestamp": 1608487729817,
     "user": {
      "displayName": "Alina Yakovleva",
      "photoUrl": "",
      "userId": "06704014056310233044"
     },
     "user_tz": -180
    },
    "id": "fxiwp_SMviG3",
    "outputId": "fb58e3ee-128b-43dd-c1b1-0f4e4a40fa55"
   },
   "outputs": [
    {
     "data": {
      "text/plain": [
       "<matplotlib.image.AxesImage at 0x23416429e80>"
      ]
     },
     "execution_count": 4,
     "metadata": {},
     "output_type": "execute_result"
    },
    {
     "data": {
      "image/png": "[encoded data removed]",
      "text/plain": [
       "<Figure size 432x288 with 1 Axes>"
      ]
     },
     "metadata": {
      "needs_background": "light"
     },
     "output_type": "display_data"
    }
   ],
   "source": [
    "images = torch.IntTensor(100, 200, 200, 3)\n",
    "plt.imshow(images[0])"
   ]
  },
  {
   "cell_type": "code",
   "execution_count": 34,
   "metadata": {
    "colab": {
     "base_uri": "https://localhost:8080/",
     "height": 269
    },
    "executionInfo": {
     "elapsed": 868,
     "status": "ok",
     "timestamp": 1608487733394,
     "user": {
      "displayName": "Alina Yakovleva",
      "photoUrl": "",
      "userId": "06704014056310233044"
     },
     "user_tz": -180
    },
    "id": "PwYYSPB6vqb2",
    "outputId": "2b25569a-7174-4954-d48d-3d97dbd5cca5"
   },
   "outputs": [
    {
     "data": {
      "text/plain": [
       "<matplotlib.image.AxesImage at 0x23417d0aeb0>"
      ]
     },
     "execution_count": 34,
     "metadata": {},
     "output_type": "execute_result"
    },
    {
     "data": {
      "image/png": "[encoded data removed]",
      "text/plain": [
       "<Figure size 432x288 with 1 Axes>"
      ]
     },
     "metadata": {
      "needs_background": "light"
     },
     "output_type": "display_data"
    }
   ],
   "source": [
    "for i in range(100):\n",
    "    images[i, 2*i, :, :] = 255\n",
    "    images[i, 2*i + 1, :, :] = 255\n",
    "    \n",
    "plt.imshow(images[30])"
   ]
  },
  {
   "cell_type": "code",
   "execution_count": 36,
   "metadata": {
    "colab": {
     "base_uri": "https://localhost:8080/",
     "height": 286
    },
    "executionInfo": {
     "elapsed": 675,
     "status": "ok",
     "timestamp": 1608487739231,
     "user": {
      "displayName": "Alina Yakovleva",
      "photoUrl": "",
      "userId": "06704014056310233044"
     },
     "user_tz": -180
    },
    "id": "DctF1YE-vuLo",
    "outputId": "5dc417a5-5261-4f5d-8da1-d1b5c1f88390"
   },
   "outputs": [
    {
     "name": "stderr",
     "output_type": "stream",
     "text": [
      "Clipping input data to the valid range for imshow with RGB data ([0..1] for floats or [0..255] for integers).\n"
     ]
    },
    {
     "data": {
      "text/plain": [
       "<matplotlib.image.AxesImage at 0x23417dc0d90>"
      ]
     },
     "execution_count": 36,
     "metadata": {},
     "output_type": "execute_result"
    },
    {
     "data": {
      "image/png": "[encoded data removed]",
      "text/plain": [
       "<Figure size 432x288 with 1 Axes>"
      ]
     },
     "metadata": {
      "needs_background": "light"
     },
     "output_type": "display_data"
    }
   ],
   "source": [
    "plt.imshow(images.float().mean(0).mul(70).int())"
   ]
  },
  {
   "cell_type": "markdown",
   "metadata": {
    "id": "Fcs1KFTRvxco"
   },
   "source": [
    "#### Задача 4\n",
    "\n",
    "Напишите функцию ```forward_pass(X, w)``` (```w0``` входит в ```w```) для одного нейрона (с сигмоидой) с помощью PyTorch"
   ]
  },
  {
   "cell_type": "code",
   "execution_count": 38,
   "metadata": {
    "colab": {
     "base_uri": "https://localhost:8080/"
    },
    "executionInfo": {
     "elapsed": 637,
     "status": "ok",
     "timestamp": 1608487741671,
     "user": {
      "displayName": "Alina Yakovleva",
      "photoUrl": "",
      "userId": "06704014056310233044"
     },
     "user_tz": -180
    },
    "id": "imZoTOwhv1EZ",
    "outputId": "c8eae960-e45e-48bc-80c1-23b87ed8b045"
   },
   "outputs": [
    {
     "name": "stdout",
     "output_type": "stream",
     "text": [
      "tensor([[1.0000e+00],\n",
      "        [8.1757e-01],\n",
      "        [6.2246e-01],\n",
      "        [1.0000e+00],\n",
      "        [8.7565e-27]])\n"
     ]
    }
   ],
   "source": [
    "def forward_pass(X, w):\n",
    "    return torch.sigmoid(X @ w)\n",
    "\n",
    "X = torch.FloatTensor([[-9, 15], [12, 3], [9, 2], [0, 5], [90, -6]])\n",
    "w = torch.FloatTensor([[-0.5], [2.5]])\n",
    "result = forward_pass(X, w)\n",
    "print(result)"
   ]
  },
  {
   "cell_type": "code",
   "execution_count": null,
   "metadata": {},
   "outputs": [],
   "source": []
  }
 ],
 "metadata": {
  "colab": {
   "collapsed_sections": [],
   "name": "4_Tasks_Yakovleva.ipynb",
   "provenance": []
  },
  "kernelspec": {
   "display_name": "Python 3",
   "language": "python",
   "name": "python3"
  },
  "language_info": {
   "codemirror_mode": {
    "name": "ipython",
    "version": 3
   },
   "file_extension": ".py",
   "mimetype": "text/x-python",
   "name": "python",
   "nbconvert_exporter": "python",
   "pygments_lexer": "ipython3",
   "version": "3.8.3"
  }
 },
 "nbformat": 4,
 "nbformat_minor": 1
}
